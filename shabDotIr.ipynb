{
  "nbformat": 4,
  "nbformat_minor": 0,
  "metadata": {
    "kernelspec": {
      "display_name": "Python 3",
      "language": "python",
      "name": "python3"
    },
    "language_info": {
      "codemirror_mode": {
        "name": "ipython",
        "version": 3
      },
      "file_extension": ".py",
      "mimetype": "text/x-python",
      "name": "python",
      "nbconvert_exporter": "python",
      "pygments_lexer": "ipython3",
      "version": "3.8.5"
    },
    "colab": {
      "name": "shabDotIr.ipynb",
      "provenance": []
    }
  },
  "cells": [
    {
      "cell_type": "code",
      "metadata": {
        "id": "gCtlMRDaQ3TA"
      },
      "source": [
        "import pandas as pd\n",
        "import numpy as np\n",
        "from sklearn.feature_selection import mutual_info_regression\n",
        "import matplotlib.pyplot as plt\n",
        "from sklearn.metrics import mean_absolute_error as MAE\n",
        "from sklearn.model_selection import train_test_split\n",
        "from sklearn.preprocessing import Normalizer, OneHotEncoder\n",
        "from sklearn.model_selection import RandomizedSearchCV\n",
        "from random import randint"
      ],
      "execution_count": 34,
      "outputs": []
    },
    {
      "cell_type": "code",
      "metadata": {
        "id": "j0fFJrSdQ3TD"
      },
      "source": [
        "data = pd.read_csv('houses.csv', index_col=0)"
      ],
      "execution_count": null,
      "outputs": []
    },
    {
      "cell_type": "code",
      "metadata": {
        "colab": {
          "base_uri": "https://localhost:8080/",
          "height": 204
        },
        "id": "-ApARxAcQ3TD",
        "outputId": "36b2e1ba-2dca-4f93-ace9-354e392cdc2d"
      },
      "source": [
        "data.head()"
      ],
      "execution_count": 3,
      "outputs": [
        {
          "output_type": "execute_result",
          "data": {
            "text/html": [
              "<div>\n",
              "<style scoped>\n",
              "    .dataframe tbody tr th:only-of-type {\n",
              "        vertical-align: middle;\n",
              "    }\n",
              "\n",
              "    .dataframe tbody tr th {\n",
              "        vertical-align: top;\n",
              "    }\n",
              "\n",
              "    .dataframe thead th {\n",
              "        text-align: right;\n",
              "    }\n",
              "</style>\n",
              "<table border=\"1\" class=\"dataframe\">\n",
              "  <thead>\n",
              "    <tr style=\"text-align: right;\">\n",
              "      <th></th>\n",
              "      <th>id</th>\n",
              "      <th>area</th>\n",
              "      <th>space</th>\n",
              "      <th>equipment</th>\n",
              "      <th>type</th>\n",
              "      <th>room</th>\n",
              "      <th>city</th>\n",
              "      <th>state</th>\n",
              "      <th>price</th>\n",
              "      <th>capacity</th>\n",
              "      <th>extra</th>\n",
              "    </tr>\n",
              "  </thead>\n",
              "  <tbody>\n",
              "    <tr>\n",
              "      <th>0</th>\n",
              "      <td>39</td>\n",
              "      <td>600</td>\n",
              "      <td>300</td>\n",
              "      <td>12</td>\n",
              "      <td>ویلایی</td>\n",
              "      <td>3</td>\n",
              "      <td>نمک آبرود</td>\n",
              "      <td>مازندران</td>\n",
              "      <td>500000</td>\n",
              "      <td>8</td>\n",
              "      <td>7</td>\n",
              "    </tr>\n",
              "    <tr>\n",
              "      <th>1</th>\n",
              "      <td>52</td>\n",
              "      <td>312</td>\n",
              "      <td>75</td>\n",
              "      <td>9</td>\n",
              "      <td>ویلایی</td>\n",
              "      <td>1</td>\n",
              "      <td>طالقان</td>\n",
              "      <td>البرز</td>\n",
              "      <td>250000</td>\n",
              "      <td>4</td>\n",
              "      <td>2</td>\n",
              "    </tr>\n",
              "    <tr>\n",
              "      <th>2</th>\n",
              "      <td>79</td>\n",
              "      <td>114</td>\n",
              "      <td>85</td>\n",
              "      <td>10</td>\n",
              "      <td>آپارتمان</td>\n",
              "      <td>1</td>\n",
              "      <td>کاشان</td>\n",
              "      <td>اصفهان</td>\n",
              "      <td>100000</td>\n",
              "      <td>4</td>\n",
              "      <td>6</td>\n",
              "    </tr>\n",
              "    <tr>\n",
              "      <th>3</th>\n",
              "      <td>87</td>\n",
              "      <td>400</td>\n",
              "      <td>200</td>\n",
              "      <td>12</td>\n",
              "      <td>ویلایی</td>\n",
              "      <td>3</td>\n",
              "      <td>نمک آبرود</td>\n",
              "      <td>مازندران</td>\n",
              "      <td>1000000</td>\n",
              "      <td>6</td>\n",
              "      <td>6</td>\n",
              "    </tr>\n",
              "    <tr>\n",
              "      <th>4</th>\n",
              "      <td>101</td>\n",
              "      <td>500</td>\n",
              "      <td>120</td>\n",
              "      <td>8</td>\n",
              "      <td>آپارتمان</td>\n",
              "      <td>2</td>\n",
              "      <td>نمک آبرود</td>\n",
              "      <td>مازندران</td>\n",
              "      <td>250000</td>\n",
              "      <td>5</td>\n",
              "      <td>0</td>\n",
              "    </tr>\n",
              "  </tbody>\n",
              "</table>\n",
              "</div>"
            ],
            "text/plain": [
              "    id  area  space  equipment  ...     state    price capacity extra\n",
              "0   39   600    300         12  ...  مازندران   500000        8     7\n",
              "1   52   312     75          9  ...     البرز   250000        4     2\n",
              "2   79   114     85         10  ...    اصفهان   100000        4     6\n",
              "3   87   400    200         12  ...  مازندران  1000000        6     6\n",
              "4  101   500    120          8  ...  مازندران   250000        5     0\n",
              "\n",
              "[5 rows x 11 columns]"
            ]
          },
          "metadata": {
            "tags": []
          },
          "execution_count": 3
        }
      ]
    },
    {
      "cell_type": "code",
      "metadata": {
        "colab": {
          "base_uri": "https://localhost:8080/"
        },
        "id": "QkwvsuSIQ3TE",
        "outputId": "efd02476-be71-48fa-8d48-0b0673ad5f08"
      },
      "source": [
        "data.info()"
      ],
      "execution_count": 4,
      "outputs": [
        {
          "output_type": "stream",
          "text": [
            "<class 'pandas.core.frame.DataFrame'>\n",
            "Int64Index: 4785 entries, 0 to 4784\n",
            "Data columns (total 11 columns):\n",
            " #   Column     Non-Null Count  Dtype \n",
            "---  ------     --------------  ----- \n",
            " 0   id         4785 non-null   int64 \n",
            " 1   area       4785 non-null   int64 \n",
            " 2   space      4785 non-null   int64 \n",
            " 3   equipment  4785 non-null   int64 \n",
            " 4   type       4785 non-null   object\n",
            " 5   room       4785 non-null   int64 \n",
            " 6   city       4785 non-null   object\n",
            " 7   state      4785 non-null   object\n",
            " 8   price      4785 non-null   int64 \n",
            " 9   capacity   4785 non-null   int64 \n",
            " 10  extra      4785 non-null   int64 \n",
            "dtypes: int64(8), object(3)\n",
            "memory usage: 448.6+ KB\n"
          ],
          "name": "stdout"
        }
      ]
    },
    {
      "cell_type": "code",
      "metadata": {
        "colab": {
          "base_uri": "https://localhost:8080/",
          "height": 297
        },
        "id": "JJdSSo6XQ3TE",
        "outputId": "8be143b6-e223-4994-f655-ea2151854257"
      },
      "source": [
        "data.describe()"
      ],
      "execution_count": 5,
      "outputs": [
        {
          "output_type": "execute_result",
          "data": {
            "text/html": [
              "<div>\n",
              "<style scoped>\n",
              "    .dataframe tbody tr th:only-of-type {\n",
              "        vertical-align: middle;\n",
              "    }\n",
              "\n",
              "    .dataframe tbody tr th {\n",
              "        vertical-align: top;\n",
              "    }\n",
              "\n",
              "    .dataframe thead th {\n",
              "        text-align: right;\n",
              "    }\n",
              "</style>\n",
              "<table border=\"1\" class=\"dataframe\">\n",
              "  <thead>\n",
              "    <tr style=\"text-align: right;\">\n",
              "      <th></th>\n",
              "      <th>id</th>\n",
              "      <th>area</th>\n",
              "      <th>space</th>\n",
              "      <th>equipment</th>\n",
              "      <th>room</th>\n",
              "      <th>price</th>\n",
              "      <th>capacity</th>\n",
              "      <th>extra</th>\n",
              "    </tr>\n",
              "  </thead>\n",
              "  <tbody>\n",
              "    <tr>\n",
              "      <th>count</th>\n",
              "      <td>4785.000000</td>\n",
              "      <td>4785.000000</td>\n",
              "      <td>4785.000000</td>\n",
              "      <td>4785.000000</td>\n",
              "      <td>4785.000000</td>\n",
              "      <td>4.785000e+03</td>\n",
              "      <td>4785.000000</td>\n",
              "      <td>4785.000000</td>\n",
              "    </tr>\n",
              "    <tr>\n",
              "      <th>mean</th>\n",
              "      <td>28950.464159</td>\n",
              "      <td>2094.212539</td>\n",
              "      <td>117.513480</td>\n",
              "      <td>8.256635</td>\n",
              "      <td>1.123302</td>\n",
              "      <td>3.457045e+05</td>\n",
              "      <td>3.523093</td>\n",
              "      <td>3.588715</td>\n",
              "    </tr>\n",
              "    <tr>\n",
              "      <th>std</th>\n",
              "      <td>12101.208762</td>\n",
              "      <td>18788.321700</td>\n",
              "      <td>220.447082</td>\n",
              "      <td>2.169878</td>\n",
              "      <td>1.115531</td>\n",
              "      <td>4.469819e+05</td>\n",
              "      <td>2.288170</td>\n",
              "      <td>4.298892</td>\n",
              "    </tr>\n",
              "    <tr>\n",
              "      <th>min</th>\n",
              "      <td>39.000000</td>\n",
              "      <td>1.000000</td>\n",
              "      <td>4.000000</td>\n",
              "      <td>0.000000</td>\n",
              "      <td>0.000000</td>\n",
              "      <td>2.500000e+04</td>\n",
              "      <td>1.000000</td>\n",
              "      <td>0.000000</td>\n",
              "    </tr>\n",
              "    <tr>\n",
              "      <th>25%</th>\n",
              "      <td>20846.000000</td>\n",
              "      <td>220.000000</td>\n",
              "      <td>24.000000</td>\n",
              "      <td>7.000000</td>\n",
              "      <td>0.000000</td>\n",
              "      <td>1.000000e+05</td>\n",
              "      <td>2.000000</td>\n",
              "      <td>1.000000</td>\n",
              "    </tr>\n",
              "    <tr>\n",
              "      <th>50%</th>\n",
              "      <td>32008.000000</td>\n",
              "      <td>500.000000</td>\n",
              "      <td>75.000000</td>\n",
              "      <td>8.000000</td>\n",
              "      <td>1.000000</td>\n",
              "      <td>2.200000e+05</td>\n",
              "      <td>4.000000</td>\n",
              "      <td>3.000000</td>\n",
              "    </tr>\n",
              "    <tr>\n",
              "      <th>75%</th>\n",
              "      <td>37832.000000</td>\n",
              "      <td>1000.000000</td>\n",
              "      <td>120.000000</td>\n",
              "      <td>10.000000</td>\n",
              "      <td>2.000000</td>\n",
              "      <td>4.000000e+05</td>\n",
              "      <td>5.000000</td>\n",
              "      <td>4.000000</td>\n",
              "    </tr>\n",
              "    <tr>\n",
              "      <th>max</th>\n",
              "      <td>48034.000000</td>\n",
              "      <td>570000.000000</td>\n",
              "      <td>4000.000000</td>\n",
              "      <td>14.000000</td>\n",
              "      <td>11.000000</td>\n",
              "      <td>7.500000e+06</td>\n",
              "      <td>45.000000</td>\n",
              "      <td>84.000000</td>\n",
              "    </tr>\n",
              "  </tbody>\n",
              "</table>\n",
              "</div>"
            ],
            "text/plain": [
              "                 id           area  ...     capacity        extra\n",
              "count   4785.000000    4785.000000  ...  4785.000000  4785.000000\n",
              "mean   28950.464159    2094.212539  ...     3.523093     3.588715\n",
              "std    12101.208762   18788.321700  ...     2.288170     4.298892\n",
              "min       39.000000       1.000000  ...     1.000000     0.000000\n",
              "25%    20846.000000     220.000000  ...     2.000000     1.000000\n",
              "50%    32008.000000     500.000000  ...     4.000000     3.000000\n",
              "75%    37832.000000    1000.000000  ...     5.000000     4.000000\n",
              "max    48034.000000  570000.000000  ...    45.000000    84.000000\n",
              "\n",
              "[8 rows x 8 columns]"
            ]
          },
          "metadata": {
            "tags": []
          },
          "execution_count": 5
        }
      ]
    },
    {
      "cell_type": "markdown",
      "metadata": {
        "id": "i_ii6gNGQ3TF"
      },
      "source": [
        "# Preprocessing"
      ]
    },
    {
      "cell_type": "code",
      "metadata": {
        "colab": {
          "base_uri": "https://localhost:8080/"
        },
        "id": "gwSJn8xgQ3TF",
        "outputId": "509637dc-6017-46f8-c31c-70f338af88b8"
      },
      "source": [
        "data['type'].value_counts()"
      ],
      "execution_count": 6,
      "outputs": [
        {
          "output_type": "execute_result",
          "data": {
            "text/plain": [
              "بوم‌گردی    1888\n",
              "ویلایی      1502\n",
              "آپارتمان    1109\n",
              "سوئیت        286\n",
              "Name: type, dtype: int64"
            ]
          },
          "metadata": {
            "tags": []
          },
          "execution_count": 6
        }
      ]
    },
    {
      "cell_type": "code",
      "metadata": {
        "colab": {
          "base_uri": "https://localhost:8080/"
        },
        "id": "d5wd-tbcQ3TG",
        "outputId": "c2625d36-130e-4b0e-a0d4-4849d48b9e0a"
      },
      "source": [
        "data['city'].value_counts()"
      ],
      "execution_count": 7,
      "outputs": [
        {
          "output_type": "execute_result",
          "data": {
            "text/plain": [
              "تهران        233\n",
              "رامسر        207\n",
              "یزد          202\n",
              "اصفهان       174\n",
              "تالش         172\n",
              "            ... \n",
              "خشک بیجار      1\n",
              "پیرانشهر       1\n",
              "هشتگرد         1\n",
              "شاهین شهر      1\n",
              "دزفول          1\n",
              "Name: city, Length: 264, dtype: int64"
            ]
          },
          "metadata": {
            "tags": []
          },
          "execution_count": 7
        }
      ]
    },
    {
      "cell_type": "code",
      "metadata": {
        "colab": {
          "base_uri": "https://localhost:8080/"
        },
        "id": "WQa3wXVQQ3TG",
        "outputId": "ca815ad9-9137-40d4-8c0b-6b25b0a29f94"
      },
      "source": [
        "data['state'].value_counts()"
      ],
      "execution_count": 8,
      "outputs": [
        {
          "output_type": "execute_result",
          "data": {
            "text/plain": [
              "مازندران               894\n",
              "گیلان                  810\n",
              "اصفهان                 524\n",
              "هرمزگان                293\n",
              "تهران                  284\n",
              "یزد                    259\n",
              "خراسان رضوی            242\n",
              "فارس                   200\n",
              "سمنان                  134\n",
              "کرمان                  115\n",
              "خراسان جنوبی           113\n",
              "البرز                  111\n",
              "گلستان                 106\n",
              "همدان                   82\n",
              "بوشهر                   75\n",
              "خوزستان                 52\n",
              "اردبیل                  52\n",
              "چهارمحال و بختیاری      50\n",
              "آذربایجان غربی          47\n",
              "آذربایجان شرقی          40\n",
              "خراسان شمالی            38\n",
              "کرمانشاه                38\n",
              "لرستان                  37\n",
              "کردستان                 32\n",
              "قزوین                   32\n",
              "سیستان و بلوچستان       29\n",
              "مرکزی                   29\n",
              "قم                      26\n",
              "زنجان                   20\n",
              "کهکیلویه و بویراحمد     12\n",
              "ایلام                    9\n",
              "Name: state, dtype: int64"
            ]
          },
          "metadata": {
            "tags": []
          },
          "execution_count": 8
        }
      ]
    },
    {
      "cell_type": "markdown",
      "metadata": {
        "id": "xD_na1VREZ7G"
      },
      "source": [
        "## Encoding"
      ]
    },
    {
      "cell_type": "code",
      "metadata": {
        "id": "BCrw2qEOQ3TH"
      },
      "source": [
        "# drop ID\n",
        "\n",
        "dropped_data = data.drop(['id', 'city'], axis=1)"
      ],
      "execution_count": 9,
      "outputs": []
    },
    {
      "cell_type": "code",
      "metadata": {
        "colab": {
          "base_uri": "https://localhost:8080/",
          "height": 473
        },
        "id": "F6ORlbUhQ3TH",
        "outputId": "6ed2644e-8700-49e7-8136-7e0b7cafc129"
      },
      "source": [
        "# OneHot encoding for 'type' and 'state'\n",
        "\n",
        "oneHot_encoder = OneHotEncoder()\n",
        "def OneHot(df):\n",
        "    columns = set()\n",
        "    count_different_values = len(df.value_counts().index)\n",
        "    for value in df:\n",
        "        if len(columns) == count_different_values:\n",
        "            break\n",
        "        columns.add(value)\n",
        "        \n",
        "    columns = list(columns)\n",
        "    encoded_data = pd.get_dummies(df)\n",
        "    return pd.DataFrame(encoded_data)\n",
        "        \n",
        "encoded_data = pd.concat([dropped_data, OneHot(data['type'])], axis=1)\n",
        "encoded_data = pd.concat([encoded_data, OneHot(data['state'])], axis=1)\n",
        "encoded_data.drop(['state', 'type'], axis=1, inplace=True)\n",
        "encoded_data"
      ],
      "execution_count": 10,
      "outputs": [
        {
          "output_type": "execute_result",
          "data": {
            "text/html": [
              "<div>\n",
              "<style scoped>\n",
              "    .dataframe tbody tr th:only-of-type {\n",
              "        vertical-align: middle;\n",
              "    }\n",
              "\n",
              "    .dataframe tbody tr th {\n",
              "        vertical-align: top;\n",
              "    }\n",
              "\n",
              "    .dataframe thead th {\n",
              "        text-align: right;\n",
              "    }\n",
              "</style>\n",
              "<table border=\"1\" class=\"dataframe\">\n",
              "  <thead>\n",
              "    <tr style=\"text-align: right;\">\n",
              "      <th></th>\n",
              "      <th>area</th>\n",
              "      <th>space</th>\n",
              "      <th>equipment</th>\n",
              "      <th>room</th>\n",
              "      <th>price</th>\n",
              "      <th>capacity</th>\n",
              "      <th>extra</th>\n",
              "      <th>آپارتمان</th>\n",
              "      <th>بوم‌گردی</th>\n",
              "      <th>سوئیت</th>\n",
              "      <th>ویلایی</th>\n",
              "      <th>آذربایجان شرقی</th>\n",
              "      <th>آذربایجان غربی</th>\n",
              "      <th>اردبیل</th>\n",
              "      <th>اصفهان</th>\n",
              "      <th>البرز</th>\n",
              "      <th>ایلام</th>\n",
              "      <th>بوشهر</th>\n",
              "      <th>تهران</th>\n",
              "      <th>خراسان جنوبی</th>\n",
              "      <th>خراسان رضوی</th>\n",
              "      <th>خراسان شمالی</th>\n",
              "      <th>خوزستان</th>\n",
              "      <th>زنجان</th>\n",
              "      <th>سمنان</th>\n",
              "      <th>سیستان و بلوچستان</th>\n",
              "      <th>فارس</th>\n",
              "      <th>قزوین</th>\n",
              "      <th>قم</th>\n",
              "      <th>لرستان</th>\n",
              "      <th>مازندران</th>\n",
              "      <th>مرکزی</th>\n",
              "      <th>هرمزگان</th>\n",
              "      <th>همدان</th>\n",
              "      <th>چهارمحال و بختیاری</th>\n",
              "      <th>کردستان</th>\n",
              "      <th>کرمان</th>\n",
              "      <th>کرمانشاه</th>\n",
              "      <th>کهکیلویه و بویراحمد</th>\n",
              "      <th>گلستان</th>\n",
              "      <th>گیلان</th>\n",
              "      <th>یزد</th>\n",
              "    </tr>\n",
              "  </thead>\n",
              "  <tbody>\n",
              "    <tr>\n",
              "      <th>0</th>\n",
              "      <td>600</td>\n",
              "      <td>300</td>\n",
              "      <td>12</td>\n",
              "      <td>3</td>\n",
              "      <td>500000</td>\n",
              "      <td>8</td>\n",
              "      <td>7</td>\n",
              "      <td>0</td>\n",
              "      <td>0</td>\n",
              "      <td>0</td>\n",
              "      <td>1</td>\n",
              "      <td>0</td>\n",
              "      <td>0</td>\n",
              "      <td>0</td>\n",
              "      <td>0</td>\n",
              "      <td>0</td>\n",
              "      <td>0</td>\n",
              "      <td>0</td>\n",
              "      <td>0</td>\n",
              "      <td>0</td>\n",
              "      <td>0</td>\n",
              "      <td>0</td>\n",
              "      <td>0</td>\n",
              "      <td>0</td>\n",
              "      <td>0</td>\n",
              "      <td>0</td>\n",
              "      <td>0</td>\n",
              "      <td>0</td>\n",
              "      <td>0</td>\n",
              "      <td>0</td>\n",
              "      <td>1</td>\n",
              "      <td>0</td>\n",
              "      <td>0</td>\n",
              "      <td>0</td>\n",
              "      <td>0</td>\n",
              "      <td>0</td>\n",
              "      <td>0</td>\n",
              "      <td>0</td>\n",
              "      <td>0</td>\n",
              "      <td>0</td>\n",
              "      <td>0</td>\n",
              "      <td>0</td>\n",
              "    </tr>\n",
              "    <tr>\n",
              "      <th>1</th>\n",
              "      <td>312</td>\n",
              "      <td>75</td>\n",
              "      <td>9</td>\n",
              "      <td>1</td>\n",
              "      <td>250000</td>\n",
              "      <td>4</td>\n",
              "      <td>2</td>\n",
              "      <td>0</td>\n",
              "      <td>0</td>\n",
              "      <td>0</td>\n",
              "      <td>1</td>\n",
              "      <td>0</td>\n",
              "      <td>0</td>\n",
              "      <td>0</td>\n",
              "      <td>0</td>\n",
              "      <td>1</td>\n",
              "      <td>0</td>\n",
              "      <td>0</td>\n",
              "      <td>0</td>\n",
              "      <td>0</td>\n",
              "      <td>0</td>\n",
              "      <td>0</td>\n",
              "      <td>0</td>\n",
              "      <td>0</td>\n",
              "      <td>0</td>\n",
              "      <td>0</td>\n",
              "      <td>0</td>\n",
              "      <td>0</td>\n",
              "      <td>0</td>\n",
              "      <td>0</td>\n",
              "      <td>0</td>\n",
              "      <td>0</td>\n",
              "      <td>0</td>\n",
              "      <td>0</td>\n",
              "      <td>0</td>\n",
              "      <td>0</td>\n",
              "      <td>0</td>\n",
              "      <td>0</td>\n",
              "      <td>0</td>\n",
              "      <td>0</td>\n",
              "      <td>0</td>\n",
              "      <td>0</td>\n",
              "    </tr>\n",
              "    <tr>\n",
              "      <th>2</th>\n",
              "      <td>114</td>\n",
              "      <td>85</td>\n",
              "      <td>10</td>\n",
              "      <td>1</td>\n",
              "      <td>100000</td>\n",
              "      <td>4</td>\n",
              "      <td>6</td>\n",
              "      <td>1</td>\n",
              "      <td>0</td>\n",
              "      <td>0</td>\n",
              "      <td>0</td>\n",
              "      <td>0</td>\n",
              "      <td>0</td>\n",
              "      <td>0</td>\n",
              "      <td>1</td>\n",
              "      <td>0</td>\n",
              "      <td>0</td>\n",
              "      <td>0</td>\n",
              "      <td>0</td>\n",
              "      <td>0</td>\n",
              "      <td>0</td>\n",
              "      <td>0</td>\n",
              "      <td>0</td>\n",
              "      <td>0</td>\n",
              "      <td>0</td>\n",
              "      <td>0</td>\n",
              "      <td>0</td>\n",
              "      <td>0</td>\n",
              "      <td>0</td>\n",
              "      <td>0</td>\n",
              "      <td>0</td>\n",
              "      <td>0</td>\n",
              "      <td>0</td>\n",
              "      <td>0</td>\n",
              "      <td>0</td>\n",
              "      <td>0</td>\n",
              "      <td>0</td>\n",
              "      <td>0</td>\n",
              "      <td>0</td>\n",
              "      <td>0</td>\n",
              "      <td>0</td>\n",
              "      <td>0</td>\n",
              "    </tr>\n",
              "    <tr>\n",
              "      <th>3</th>\n",
              "      <td>400</td>\n",
              "      <td>200</td>\n",
              "      <td>12</td>\n",
              "      <td>3</td>\n",
              "      <td>1000000</td>\n",
              "      <td>6</td>\n",
              "      <td>6</td>\n",
              "      <td>0</td>\n",
              "      <td>0</td>\n",
              "      <td>0</td>\n",
              "      <td>1</td>\n",
              "      <td>0</td>\n",
              "      <td>0</td>\n",
              "      <td>0</td>\n",
              "      <td>0</td>\n",
              "      <td>0</td>\n",
              "      <td>0</td>\n",
              "      <td>0</td>\n",
              "      <td>0</td>\n",
              "      <td>0</td>\n",
              "      <td>0</td>\n",
              "      <td>0</td>\n",
              "      <td>0</td>\n",
              "      <td>0</td>\n",
              "      <td>0</td>\n",
              "      <td>0</td>\n",
              "      <td>0</td>\n",
              "      <td>0</td>\n",
              "      <td>0</td>\n",
              "      <td>0</td>\n",
              "      <td>1</td>\n",
              "      <td>0</td>\n",
              "      <td>0</td>\n",
              "      <td>0</td>\n",
              "      <td>0</td>\n",
              "      <td>0</td>\n",
              "      <td>0</td>\n",
              "      <td>0</td>\n",
              "      <td>0</td>\n",
              "      <td>0</td>\n",
              "      <td>0</td>\n",
              "      <td>0</td>\n",
              "    </tr>\n",
              "    <tr>\n",
              "      <th>4</th>\n",
              "      <td>500</td>\n",
              "      <td>120</td>\n",
              "      <td>8</td>\n",
              "      <td>2</td>\n",
              "      <td>250000</td>\n",
              "      <td>5</td>\n",
              "      <td>0</td>\n",
              "      <td>1</td>\n",
              "      <td>0</td>\n",
              "      <td>0</td>\n",
              "      <td>0</td>\n",
              "      <td>0</td>\n",
              "      <td>0</td>\n",
              "      <td>0</td>\n",
              "      <td>0</td>\n",
              "      <td>0</td>\n",
              "      <td>0</td>\n",
              "      <td>0</td>\n",
              "      <td>0</td>\n",
              "      <td>0</td>\n",
              "      <td>0</td>\n",
              "      <td>0</td>\n",
              "      <td>0</td>\n",
              "      <td>0</td>\n",
              "      <td>0</td>\n",
              "      <td>0</td>\n",
              "      <td>0</td>\n",
              "      <td>0</td>\n",
              "      <td>0</td>\n",
              "      <td>0</td>\n",
              "      <td>1</td>\n",
              "      <td>0</td>\n",
              "      <td>0</td>\n",
              "      <td>0</td>\n",
              "      <td>0</td>\n",
              "      <td>0</td>\n",
              "      <td>0</td>\n",
              "      <td>0</td>\n",
              "      <td>0</td>\n",
              "      <td>0</td>\n",
              "      <td>0</td>\n",
              "      <td>0</td>\n",
              "    </tr>\n",
              "    <tr>\n",
              "      <th>...</th>\n",
              "      <td>...</td>\n",
              "      <td>...</td>\n",
              "      <td>...</td>\n",
              "      <td>...</td>\n",
              "      <td>...</td>\n",
              "      <td>...</td>\n",
              "      <td>...</td>\n",
              "      <td>...</td>\n",
              "      <td>...</td>\n",
              "      <td>...</td>\n",
              "      <td>...</td>\n",
              "      <td>...</td>\n",
              "      <td>...</td>\n",
              "      <td>...</td>\n",
              "      <td>...</td>\n",
              "      <td>...</td>\n",
              "      <td>...</td>\n",
              "      <td>...</td>\n",
              "      <td>...</td>\n",
              "      <td>...</td>\n",
              "      <td>...</td>\n",
              "      <td>...</td>\n",
              "      <td>...</td>\n",
              "      <td>...</td>\n",
              "      <td>...</td>\n",
              "      <td>...</td>\n",
              "      <td>...</td>\n",
              "      <td>...</td>\n",
              "      <td>...</td>\n",
              "      <td>...</td>\n",
              "      <td>...</td>\n",
              "      <td>...</td>\n",
              "      <td>...</td>\n",
              "      <td>...</td>\n",
              "      <td>...</td>\n",
              "      <td>...</td>\n",
              "      <td>...</td>\n",
              "      <td>...</td>\n",
              "      <td>...</td>\n",
              "      <td>...</td>\n",
              "      <td>...</td>\n",
              "      <td>...</td>\n",
              "    </tr>\n",
              "    <tr>\n",
              "      <th>4780</th>\n",
              "      <td>3000</td>\n",
              "      <td>150</td>\n",
              "      <td>11</td>\n",
              "      <td>2</td>\n",
              "      <td>1000000</td>\n",
              "      <td>4</td>\n",
              "      <td>3</td>\n",
              "      <td>0</td>\n",
              "      <td>0</td>\n",
              "      <td>0</td>\n",
              "      <td>1</td>\n",
              "      <td>0</td>\n",
              "      <td>0</td>\n",
              "      <td>0</td>\n",
              "      <td>0</td>\n",
              "      <td>0</td>\n",
              "      <td>0</td>\n",
              "      <td>0</td>\n",
              "      <td>0</td>\n",
              "      <td>0</td>\n",
              "      <td>0</td>\n",
              "      <td>0</td>\n",
              "      <td>0</td>\n",
              "      <td>0</td>\n",
              "      <td>0</td>\n",
              "      <td>0</td>\n",
              "      <td>0</td>\n",
              "      <td>0</td>\n",
              "      <td>0</td>\n",
              "      <td>0</td>\n",
              "      <td>1</td>\n",
              "      <td>0</td>\n",
              "      <td>0</td>\n",
              "      <td>0</td>\n",
              "      <td>0</td>\n",
              "      <td>0</td>\n",
              "      <td>0</td>\n",
              "      <td>0</td>\n",
              "      <td>0</td>\n",
              "      <td>0</td>\n",
              "      <td>0</td>\n",
              "      <td>0</td>\n",
              "    </tr>\n",
              "    <tr>\n",
              "      <th>4781</th>\n",
              "      <td>4000</td>\n",
              "      <td>110</td>\n",
              "      <td>10</td>\n",
              "      <td>1</td>\n",
              "      <td>330000</td>\n",
              "      <td>4</td>\n",
              "      <td>2</td>\n",
              "      <td>0</td>\n",
              "      <td>0</td>\n",
              "      <td>0</td>\n",
              "      <td>1</td>\n",
              "      <td>0</td>\n",
              "      <td>0</td>\n",
              "      <td>0</td>\n",
              "      <td>0</td>\n",
              "      <td>0</td>\n",
              "      <td>0</td>\n",
              "      <td>0</td>\n",
              "      <td>0</td>\n",
              "      <td>0</td>\n",
              "      <td>0</td>\n",
              "      <td>0</td>\n",
              "      <td>0</td>\n",
              "      <td>0</td>\n",
              "      <td>0</td>\n",
              "      <td>0</td>\n",
              "      <td>0</td>\n",
              "      <td>0</td>\n",
              "      <td>0</td>\n",
              "      <td>0</td>\n",
              "      <td>0</td>\n",
              "      <td>0</td>\n",
              "      <td>0</td>\n",
              "      <td>0</td>\n",
              "      <td>0</td>\n",
              "      <td>0</td>\n",
              "      <td>0</td>\n",
              "      <td>0</td>\n",
              "      <td>0</td>\n",
              "      <td>0</td>\n",
              "      <td>1</td>\n",
              "      <td>0</td>\n",
              "    </tr>\n",
              "    <tr>\n",
              "      <th>4782</th>\n",
              "      <td>400</td>\n",
              "      <td>30</td>\n",
              "      <td>11</td>\n",
              "      <td>0</td>\n",
              "      <td>130000</td>\n",
              "      <td>3</td>\n",
              "      <td>1</td>\n",
              "      <td>1</td>\n",
              "      <td>0</td>\n",
              "      <td>0</td>\n",
              "      <td>0</td>\n",
              "      <td>0</td>\n",
              "      <td>0</td>\n",
              "      <td>1</td>\n",
              "      <td>0</td>\n",
              "      <td>0</td>\n",
              "      <td>0</td>\n",
              "      <td>0</td>\n",
              "      <td>0</td>\n",
              "      <td>0</td>\n",
              "      <td>0</td>\n",
              "      <td>0</td>\n",
              "      <td>0</td>\n",
              "      <td>0</td>\n",
              "      <td>0</td>\n",
              "      <td>0</td>\n",
              "      <td>0</td>\n",
              "      <td>0</td>\n",
              "      <td>0</td>\n",
              "      <td>0</td>\n",
              "      <td>0</td>\n",
              "      <td>0</td>\n",
              "      <td>0</td>\n",
              "      <td>0</td>\n",
              "      <td>0</td>\n",
              "      <td>0</td>\n",
              "      <td>0</td>\n",
              "      <td>0</td>\n",
              "      <td>0</td>\n",
              "      <td>0</td>\n",
              "      <td>0</td>\n",
              "      <td>0</td>\n",
              "    </tr>\n",
              "    <tr>\n",
              "      <th>4783</th>\n",
              "      <td>400</td>\n",
              "      <td>20</td>\n",
              "      <td>10</td>\n",
              "      <td>0</td>\n",
              "      <td>100000</td>\n",
              "      <td>2</td>\n",
              "      <td>1</td>\n",
              "      <td>1</td>\n",
              "      <td>0</td>\n",
              "      <td>0</td>\n",
              "      <td>0</td>\n",
              "      <td>0</td>\n",
              "      <td>0</td>\n",
              "      <td>1</td>\n",
              "      <td>0</td>\n",
              "      <td>0</td>\n",
              "      <td>0</td>\n",
              "      <td>0</td>\n",
              "      <td>0</td>\n",
              "      <td>0</td>\n",
              "      <td>0</td>\n",
              "      <td>0</td>\n",
              "      <td>0</td>\n",
              "      <td>0</td>\n",
              "      <td>0</td>\n",
              "      <td>0</td>\n",
              "      <td>0</td>\n",
              "      <td>0</td>\n",
              "      <td>0</td>\n",
              "      <td>0</td>\n",
              "      <td>0</td>\n",
              "      <td>0</td>\n",
              "      <td>0</td>\n",
              "      <td>0</td>\n",
              "      <td>0</td>\n",
              "      <td>0</td>\n",
              "      <td>0</td>\n",
              "      <td>0</td>\n",
              "      <td>0</td>\n",
              "      <td>0</td>\n",
              "      <td>0</td>\n",
              "      <td>0</td>\n",
              "    </tr>\n",
              "    <tr>\n",
              "      <th>4784</th>\n",
              "      <td>400</td>\n",
              "      <td>75</td>\n",
              "      <td>11</td>\n",
              "      <td>2</td>\n",
              "      <td>200000</td>\n",
              "      <td>6</td>\n",
              "      <td>2</td>\n",
              "      <td>1</td>\n",
              "      <td>0</td>\n",
              "      <td>0</td>\n",
              "      <td>0</td>\n",
              "      <td>0</td>\n",
              "      <td>0</td>\n",
              "      <td>1</td>\n",
              "      <td>0</td>\n",
              "      <td>0</td>\n",
              "      <td>0</td>\n",
              "      <td>0</td>\n",
              "      <td>0</td>\n",
              "      <td>0</td>\n",
              "      <td>0</td>\n",
              "      <td>0</td>\n",
              "      <td>0</td>\n",
              "      <td>0</td>\n",
              "      <td>0</td>\n",
              "      <td>0</td>\n",
              "      <td>0</td>\n",
              "      <td>0</td>\n",
              "      <td>0</td>\n",
              "      <td>0</td>\n",
              "      <td>0</td>\n",
              "      <td>0</td>\n",
              "      <td>0</td>\n",
              "      <td>0</td>\n",
              "      <td>0</td>\n",
              "      <td>0</td>\n",
              "      <td>0</td>\n",
              "      <td>0</td>\n",
              "      <td>0</td>\n",
              "      <td>0</td>\n",
              "      <td>0</td>\n",
              "      <td>0</td>\n",
              "    </tr>\n",
              "  </tbody>\n",
              "</table>\n",
              "<p>4785 rows × 42 columns</p>\n",
              "</div>"
            ],
            "text/plain": [
              "      area  space  equipment  room  ...  کهکیلویه و بویراحمد  گلستان  گیلان  یزد\n",
              "0      600    300         12     3  ...                    0       0      0    0\n",
              "1      312     75          9     1  ...                    0       0      0    0\n",
              "2      114     85         10     1  ...                    0       0      0    0\n",
              "3      400    200         12     3  ...                    0       0      0    0\n",
              "4      500    120          8     2  ...                    0       0      0    0\n",
              "...    ...    ...        ...   ...  ...                  ...     ...    ...  ...\n",
              "4780  3000    150         11     2  ...                    0       0      0    0\n",
              "4781  4000    110         10     1  ...                    0       0      1    0\n",
              "4782   400     30         11     0  ...                    0       0      0    0\n",
              "4783   400     20         10     0  ...                    0       0      0    0\n",
              "4784   400     75         11     2  ...                    0       0      0    0\n",
              "\n",
              "[4785 rows x 42 columns]"
            ]
          },
          "metadata": {
            "tags": []
          },
          "execution_count": 10
        }
      ]
    },
    {
      "cell_type": "markdown",
      "metadata": {
        "id": "Za28yOjBEe3H"
      },
      "source": [
        "## New feature"
      ]
    },
    {
      "cell_type": "code",
      "metadata": {
        "id": "HOQ32BxjQ3TJ"
      },
      "source": [
        "encoded_data['spacePerPerson'] = encoded_data['space']/encoded_data['capacity']\n",
        "encoded_data['areaPerPerson'] = encoded_data['area']/encoded_data['capacity']"
      ],
      "execution_count": 11,
      "outputs": []
    },
    {
      "cell_type": "code",
      "metadata": {
        "id": "Ci5Z36JuQ3TJ"
      },
      "source": [
        "encoded_data['capPlusExtra'] = encoded_data['capacity'] + encoded_data['extra']"
      ],
      "execution_count": 12,
      "outputs": []
    },
    {
      "cell_type": "code",
      "metadata": {
        "colab": {
          "base_uri": "https://localhost:8080/"
        },
        "id": "63Ow6GIBQ3TJ",
        "outputId": "d0ddfe8a-5d89-4866-af58-336af39a5af8"
      },
      "source": [
        "encoded_data.info()"
      ],
      "execution_count": 13,
      "outputs": [
        {
          "output_type": "stream",
          "text": [
            "<class 'pandas.core.frame.DataFrame'>\n",
            "Int64Index: 4785 entries, 0 to 4784\n",
            "Data columns (total 45 columns):\n",
            " #   Column               Non-Null Count  Dtype  \n",
            "---  ------               --------------  -----  \n",
            " 0   area                 4785 non-null   int64  \n",
            " 1   space                4785 non-null   int64  \n",
            " 2   equipment            4785 non-null   int64  \n",
            " 3   room                 4785 non-null   int64  \n",
            " 4   price                4785 non-null   int64  \n",
            " 5   capacity             4785 non-null   int64  \n",
            " 6   extra                4785 non-null   int64  \n",
            " 7   آپارتمان             4785 non-null   uint8  \n",
            " 8   بوم‌گردی             4785 non-null   uint8  \n",
            " 9   سوئیت                4785 non-null   uint8  \n",
            " 10  ویلایی               4785 non-null   uint8  \n",
            " 11  آذربایجان شرقی       4785 non-null   uint8  \n",
            " 12  آذربایجان غربی       4785 non-null   uint8  \n",
            " 13  اردبیل               4785 non-null   uint8  \n",
            " 14  اصفهان               4785 non-null   uint8  \n",
            " 15  البرز                4785 non-null   uint8  \n",
            " 16  ایلام                4785 non-null   uint8  \n",
            " 17  بوشهر                4785 non-null   uint8  \n",
            " 18  تهران                4785 non-null   uint8  \n",
            " 19  خراسان جنوبی         4785 non-null   uint8  \n",
            " 20  خراسان رضوی          4785 non-null   uint8  \n",
            " 21  خراسان شمالی         4785 non-null   uint8  \n",
            " 22  خوزستان              4785 non-null   uint8  \n",
            " 23  زنجان                4785 non-null   uint8  \n",
            " 24  سمنان                4785 non-null   uint8  \n",
            " 25  سیستان و بلوچستان    4785 non-null   uint8  \n",
            " 26  فارس                 4785 non-null   uint8  \n",
            " 27  قزوین                4785 non-null   uint8  \n",
            " 28  قم                   4785 non-null   uint8  \n",
            " 29  لرستان               4785 non-null   uint8  \n",
            " 30  مازندران             4785 non-null   uint8  \n",
            " 31  مرکزی                4785 non-null   uint8  \n",
            " 32  هرمزگان              4785 non-null   uint8  \n",
            " 33  همدان                4785 non-null   uint8  \n",
            " 34  چهارمحال و بختیاری   4785 non-null   uint8  \n",
            " 35  کردستان              4785 non-null   uint8  \n",
            " 36  کرمان                4785 non-null   uint8  \n",
            " 37  کرمانشاه             4785 non-null   uint8  \n",
            " 38  کهکیلویه و بویراحمد  4785 non-null   uint8  \n",
            " 39  گلستان               4785 non-null   uint8  \n",
            " 40  گیلان                4785 non-null   uint8  \n",
            " 41  یزد                  4785 non-null   uint8  \n",
            " 42  spacePerPerson       4785 non-null   float64\n",
            " 43  areaPerPerson        4785 non-null   float64\n",
            " 44  capPlusExtra         4785 non-null   int64  \n",
            "dtypes: float64(2), int64(8), uint8(35)\n",
            "memory usage: 574.8 KB\n"
          ],
          "name": "stdout"
        }
      ]
    },
    {
      "cell_type": "markdown",
      "metadata": {
        "id": "MyUKQzkHEpvW"
      },
      "source": [
        "## Data normalization"
      ]
    },
    {
      "cell_type": "code",
      "metadata": {
        "id": "vZJf9I9lQ3TK"
      },
      "source": [
        "# normalize data\n",
        "\n",
        "scaler = Normalizer()\n",
        "normalized_data = encoded_data.drop(['price'], axis=1)\n",
        "normalized_data = pd.DataFrame(scaler.fit_transform(normalized_data), index=normalized_data.index, columns=normalized_data.columns)"
      ],
      "execution_count": 14,
      "outputs": []
    },
    {
      "cell_type": "code",
      "metadata": {
        "id": "H-ZqZ1pYQ3TK"
      },
      "source": [
        "X = normalized_data.copy()\n",
        "y = encoded_data['price']"
      ],
      "execution_count": 15,
      "outputs": []
    },
    {
      "cell_type": "code",
      "metadata": {
        "id": "9fpMr3wRQ3TL"
      },
      "source": [
        "# split train and test data\n",
        "\n",
        "xtrain, xtest, ytrain, ytest = train_test_split(X, y, test_size=0.2)\n",
        "xtrain, xvalid, ytrain, yvalid = train_test_split(X, y, test_size=0.1)"
      ],
      "execution_count": 16,
      "outputs": []
    },
    {
      "cell_type": "markdown",
      "metadata": {
        "id": "LEX1HSPQD177"
      },
      "source": [
        "## Select feature"
      ]
    },
    {
      "cell_type": "code",
      "metadata": {
        "colab": {
          "base_uri": "https://localhost:8080/"
        },
        "id": "JCmMdCKeQ3TL",
        "outputId": "a26b9a10-a59f-4bfe-aad7-6acffdb1b210"
      },
      "source": [
        "# calculate Mutual information\n",
        "\n",
        "def make_mi_scores(xtrain, ytrain):\n",
        "    mi_scores = mutual_info_regression(X, y)\n",
        "    mi_scores = pd.Series(mi_scores, name=\"MI Scores\", index=X.columns)\n",
        "    mi_scores = mi_scores.sort_values(ascending=False)\n",
        "    return mi_scores\n",
        "\n",
        "mi_scores = make_mi_scores(xtrain, ytrain)\n",
        "mi_scores"
      ],
      "execution_count": 17,
      "outputs": [
        {
          "output_type": "execute_result",
          "data": {
            "text/plain": [
              "capacity               1.026159\n",
              "areaPerPerson          1.017533\n",
              "area                   0.921657\n",
              "بوم‌گردی               0.893488\n",
              "equipment              0.816521\n",
              "space                  0.773575\n",
              "spacePerPerson         0.744787\n",
              "capPlusExtra           0.654951\n",
              "extra                  0.567155\n",
              "room                   0.387824\n",
              "ویلایی                 0.217424\n",
              "آپارتمان               0.180170\n",
              "اصفهان                 0.124501\n",
              "مازندران               0.122833\n",
              "یزد                    0.114400\n",
              "گیلان                  0.112092\n",
              "خراسان رضوی            0.108023\n",
              "خراسان جنوبی           0.080675\n",
              "هرمزگان                0.079451\n",
              "کرمان                  0.077621\n",
              "تهران                  0.075080\n",
              "سمنان                  0.069777\n",
              "سوئیت                  0.056203\n",
              "همدان                  0.049583\n",
              "خراسان شمالی           0.048790\n",
              "بوشهر                  0.044365\n",
              "فارس                   0.044174\n",
              "خوزستان                0.042632\n",
              "البرز                  0.032800\n",
              "آذربایجان غربی         0.024877\n",
              "قزوین                  0.023603\n",
              "گلستان                 0.018961\n",
              "سیستان و بلوچستان      0.018234\n",
              "چهارمحال و بختیاری     0.017479\n",
              "لرستان                 0.015783\n",
              "مرکزی                  0.013764\n",
              "اردبیل                 0.012475\n",
              "کرمانشاه               0.011885\n",
              "زنجان                  0.007111\n",
              "قم                     0.000942\n",
              "ایلام                  0.000000\n",
              "آذربایجان شرقی         0.000000\n",
              "کردستان                0.000000\n",
              "کهکیلویه و بویراحمد    0.000000\n",
              "Name: MI Scores, dtype: float64"
            ]
          },
          "metadata": {
            "tags": []
          },
          "execution_count": 17
        }
      ]
    },
    {
      "cell_type": "code",
      "metadata": {
        "colab": {
          "base_uri": "https://localhost:8080/",
          "height": 611
        },
        "id": "ut8cUaDVQ3TL",
        "outputId": "ea144a49-3e9e-4d4c-d957-ee600e8e684f"
      },
      "source": [
        "# plot Mutual information\n",
        "\n",
        "def plot_mi_scores(scores):\n",
        "    scores = scores.sort_values(ascending=True)\n",
        "    width = np.arange(len(scores))\n",
        "    ticks = list(scores.index)\n",
        "    plt.barh(width, scores)\n",
        "    plt.yticks(width, ticks)\n",
        "    plt.title(\"Mutual Information Scores\")\n",
        "\n",
        "\n",
        "plt.figure(dpi=100, figsize=(5, 7))\n",
        "plot_mi_scores(mi_scores)"
      ],
      "execution_count": 18,
      "outputs": [
        {
          "output_type": "display_data",
          "data": {
            "image/png": "[encoded data removed]",
            "text/plain": [
              "<Figure size 500x700 with 1 Axes>"
            ]
          },
          "metadata": {
            "tags": [],
            "needs_background": "light"
          }
        }
      ]
    },
    {
      "cell_type": "code",
      "metadata": {
        "id": "LzJQQZQyQ3TM"
      },
      "source": [
        "# drop columns with 0  mutual_info_regression\n",
        "\n",
        "columns = list(mi_scores[mi_scores > 0].index)\n",
        "\n",
        "xtrain_newFeatures = xtrain[columns]\n",
        "xtest_newFeatures = xtest[columns]\n",
        "xvalid_newFeatures = xvalid[columns]"
      ],
      "execution_count": 19,
      "outputs": []
    },
    {
      "cell_type": "markdown",
      "metadata": {
        "id": "3_9YcUfhDw8r"
      },
      "source": [
        "# Select model"
      ]
    },
    {
      "cell_type": "code",
      "metadata": {
        "id": "6FFBiasxQ3TM"
      },
      "source": [
        "# make and fit model and print scores\n",
        "\n",
        "def MakeModel(model, xtrain, ytrain, xvalid, yvalid, key=1):\n",
        "  if key:\n",
        "    model.fit(xtrain, ytrain)\n",
        "  score = MAE(ytrain, model.predict(xtrain))\n",
        "  print('train_score : {0:0.2f}'.format(score))\n",
        "  print()\n",
        "  score = MAE(yvalid, model.predict(xvalid))\n",
        "  print('valid_score : {0:0.2f}'.format(score))"
      ],
      "execution_count": 20,
      "outputs": []
    },
    {
      "cell_type": "code",
      "metadata": {
        "colab": {
          "base_uri": "https://localhost:8080/"
        },
        "id": "AOoaL40uQ3TN",
        "outputId": "0437ca78-ec00-4d57-992b-21681d813715"
      },
      "source": [
        "from sklearn.tree import DecisionTreeRegressor\n",
        "\n",
        "MakeModel(DecisionTreeRegressor(random_state=42), xtrain_newFeatures, ytrain, xvalid_newFeatures, yvalid)"
      ],
      "execution_count": 21,
      "outputs": [
        {
          "output_type": "stream",
          "text": [
            "train_score : 2530.71\n",
            "\n",
            "valid_score : 169795.89\n"
          ],
          "name": "stdout"
        }
      ]
    },
    {
      "cell_type": "code",
      "metadata": {
        "colab": {
          "base_uri": "https://localhost:8080/"
        },
        "id": "OfqvoMtzQ3TN",
        "outputId": "a0c2cbff-323d-4dfe-ac40-42b9c4b5db7f"
      },
      "source": [
        "from sklearn.ensemble import RandomForestRegressor\n",
        "\n",
        "MakeModel(RandomForestRegressor(random_state=42), xtrain_newFeatures, ytrain, xvalid_newFeatures, yvalid)"
      ],
      "execution_count": 22,
      "outputs": [
        {
          "output_type": "stream",
          "text": [
            "train_score : 45875.32\n",
            "\n",
            "valid_score : 133825.11\n"
          ],
          "name": "stdout"
        }
      ]
    },
    {
      "cell_type": "code",
      "metadata": {
        "colab": {
          "base_uri": "https://localhost:8080/"
        },
        "id": "9zXr8wc9Q3TO",
        "outputId": "c2cfab11-3b56-4e5a-9716-82216150a230"
      },
      "source": [
        "from sklearn.neighbors import KNeighborsRegressor\n",
        "\n",
        "MakeModel(KNeighborsRegressor(), xtrain_newFeatures, ytrain, xvalid_newFeatures, yvalid)"
      ],
      "execution_count": 23,
      "outputs": [
        {
          "output_type": "stream",
          "text": [
            "train_score : 137096.89\n",
            "\n",
            "valid_score : 175644.68\n"
          ],
          "name": "stdout"
        }
      ]
    },
    {
      "cell_type": "code",
      "metadata": {
        "colab": {
          "base_uri": "https://localhost:8080/"
        },
        "id": "grIAE-JRQ3TO",
        "outputId": "66cddeb7-c02f-4c3a-d740-1b73cb4cfa4c"
      },
      "source": [
        "from sklearn.neural_network import MLPRegressor\n",
        "\n",
        "MakeModel(MLPRegressor(), xtrain_newFeatures, ytrain, xvalid_newFeatures, yvalid)"
      ],
      "execution_count": 24,
      "outputs": [
        {
          "output_type": "stream",
          "text": [
            "train_score : 339691.07\n",
            "\n",
            "valid_score : 360059.73\n"
          ],
          "name": "stdout"
        },
        {
          "output_type": "stream",
          "text": [
            "/usr/local/lib/python3.7/dist-packages/sklearn/neural_network/_multilayer_perceptron.py:571: ConvergenceWarning: Stochastic Optimizer: Maximum iterations (200) reached and the optimization hasn't converged yet.\n",
            "  % self.max_iter, ConvergenceWarning)\n"
          ],
          "name": "stderr"
        }
      ]
    },
    {
      "cell_type": "code",
      "metadata": {
        "colab": {
          "base_uri": "https://localhost:8080/"
        },
        "id": "JmswJ4gzQ3TO",
        "outputId": "6a5450c0-8717-427c-eebc-937b3caafd74"
      },
      "source": [
        "from sklearn.ensemble import GradientBoostingRegressor as GBoost\n",
        "\n",
        "MakeModel(GBoost(random_state=42), xtrain_newFeatures, ytrain, xvalid_newFeatures, yvalid)"
      ],
      "execution_count": 25,
      "outputs": [
        {
          "output_type": "stream",
          "text": [
            "train_score : 126805.05\n",
            "\n",
            "valid_score : 141008.01\n"
          ],
          "name": "stdout"
        }
      ]
    },
    {
      "cell_type": "code",
      "metadata": {
        "colab": {
          "base_uri": "https://localhost:8080/"
        },
        "id": "RmA7wqA9Q3TP",
        "outputId": "5864871e-5e24-4004-e78f-c6c0970fefdf"
      },
      "source": [
        "from sklearn.linear_model import LinearRegression\n",
        "\n",
        "MakeModel(LinearRegression(), xtrain_newFeatures, ytrain, xvalid_newFeatures, yvalid)"
      ],
      "execution_count": 26,
      "outputs": [
        {
          "output_type": "stream",
          "text": [
            "train_score : 199076.50\n",
            "\n",
            "valid_score : 195537.65\n"
          ],
          "name": "stdout"
        }
      ]
    },
    {
      "cell_type": "code",
      "metadata": {
        "colab": {
          "base_uri": "https://localhost:8080/"
        },
        "id": "b1MuKwDoQ3TP",
        "outputId": "6c512b13-8949-4730-dc5c-d0bb536573b5"
      },
      "source": [
        "from sklearn.svm import SVR\n",
        "\n",
        "MakeModel(SVR(), xtrain_newFeatures, ytrain, xvalid_newFeatures, yvalid)"
      ],
      "execution_count": 27,
      "outputs": [
        {
          "output_type": "stream",
          "text": [
            "train_score : 225925.37\n",
            "\n",
            "valid_score : 237689.78\n"
          ],
          "name": "stdout"
        }
      ]
    },
    {
      "cell_type": "markdown",
      "metadata": {
        "id": "xhu-lUVuDr7k"
      },
      "source": [
        "# Fine-tune "
      ]
    },
    {
      "cell_type": "code",
      "metadata": {
        "colab": {
          "base_uri": "https://localhost:8080/"
        },
        "id": "Ah6UyNbx5mpQ",
        "outputId": "6c4813d2-b376-434b-9c4c-ce3cccb5fa53"
      },
      "source": [
        "# fine-tune \n",
        "\n",
        "# Setup the parameters and distributions to sample from: param_grid\n",
        "param_grid = {\"criterion\": [\"mse\", \"mae\"],\n",
        "              \"min_samples_split\": [10, 20, 40],\n",
        "              \"max_depth\": [2, 6, 8],\n",
        "              \"min_samples_leaf\": [20, 40, 100],\n",
        "              \"max_leaf_nodes\": [5, 20, 100],\n",
        "              }\n",
        "\n",
        "# Instantiate a Decision Tree Regressor: tree\n",
        "tree = DecisionTreeRegressor()\n",
        "\n",
        "# Instantiate the RandomizedSearchCV object: tree_cv\n",
        "tree_cv = RandomizedSearchCV(tree, param_grid, cv=5, verbose=1)\n",
        "\n",
        "# Fit it to the data\n",
        "tree_cv.fit(xtrain,ytrain)"
      ],
      "execution_count": 42,
      "outputs": [
        {
          "output_type": "stream",
          "text": [
            "Fitting 5 folds for each of 10 candidates, totalling 50 fits\n"
          ],
          "name": "stdout"
        },
        {
          "output_type": "stream",
          "text": [
            "[Parallel(n_jobs=1)]: Using backend SequentialBackend with 1 concurrent workers.\n",
            "[Parallel(n_jobs=1)]: Done  50 out of  50 | elapsed:   31.3s finished\n"
          ],
          "name": "stderr"
        },
        {
          "output_type": "execute_result",
          "data": {
            "text/plain": [
              "RandomizedSearchCV(cv=5, error_score=nan,\n",
              "                   estimator=DecisionTreeRegressor(ccp_alpha=0.0,\n",
              "                                                   criterion='mse',\n",
              "                                                   max_depth=None,\n",
              "                                                   max_features=None,\n",
              "                                                   max_leaf_nodes=None,\n",
              "                                                   min_impurity_decrease=0.0,\n",
              "                                                   min_impurity_split=None,\n",
              "                                                   min_samples_leaf=1,\n",
              "                                                   min_samples_split=2,\n",
              "                                                   min_weight_fraction_leaf=0.0,\n",
              "                                                   presort='deprecated',\n",
              "                                                   random_state=None,\n",
              "                                                   splitter='best'),\n",
              "                   iid='deprecated', n_iter=10, n_jobs=None,\n",
              "                   param_distributions={'criterion': ['mse', 'mae'],\n",
              "                                        'max_depth': [2, 6, 8],\n",
              "                                        'max_leaf_nodes': [5, 20, 100],\n",
              "                                        'min_samples_leaf': [20, 40, 100],\n",
              "                                        'min_samples_split': [10, 20, 40]},\n",
              "                   pre_dispatch='2*n_jobs', random_state=None, refit=True,\n",
              "                   return_train_score=False, scoring=None, verbose=1)"
            ]
          },
          "metadata": {
            "tags": []
          },
          "execution_count": 42
        }
      ]
    },
    {
      "cell_type": "markdown",
      "metadata": {
        "id": "JyYV1BBYDn_B"
      },
      "source": [
        "# Evaluate Model"
      ]
    },
    {
      "cell_type": "code",
      "metadata": {
        "colab": {
          "base_uri": "https://localhost:8080/"
        },
        "id": "2wg69W1yQ3TQ",
        "outputId": "2f3d0d72-39a7-4eb4-d396-89c53d5cee06"
      },
      "source": [
        "MakeModel(tree_cv, xtrain, ytrain, xvalid, yvalid, 0)"
      ],
      "execution_count": 44,
      "outputs": [
        {
          "output_type": "stream",
          "text": [
            "train_score : 134865.30\n",
            "\n",
            "valid_score : 146913.36\n"
          ],
          "name": "stdout"
        }
      ]
    },
    {
      "cell_type": "code",
      "metadata": {
        "colab": {
          "base_uri": "https://localhost:8080/"
        },
        "id": "JahQHIgaDd2C",
        "outputId": "09462659-ce0c-4e22-d1aa-96c4322def71"
      },
      "source": [
        "score = MAE(ytest, tree_cv.predict(xtest))\n",
        "print('Final-model-score : {0:0.2f}'.format(score))"
      ],
      "execution_count": 47,
      "outputs": [
        {
          "output_type": "stream",
          "text": [
            "Final-model-score : 138893.94\n"
          ],
          "name": "stdout"
        }
      ]
    },
    {
      "cell_type": "code",
      "metadata": {
        "id": "GkgHX5LRDjFr"
      },
      "source": [
        ""
      ],
      "execution_count": null,
      "outputs": []
    }
  ]
}