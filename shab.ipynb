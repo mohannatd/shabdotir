{
 "cells": [
  {
   "cell_type": "code",
   "execution_count": 352,
   "metadata": {},
   "outputs": [],
   "source": [
    "import pandas as pd\n",
    "import matplotlib.pyplot as plt\n",
    "import numpy as np"
   ]
  },
  {
   "cell_type": "code",
   "execution_count": 353,
   "metadata": {},
   "outputs": [],
   "source": [
    "houses = pd.read_csv('/Users/mohannatd/Programming/Codes/PythonJadi/final/houses.csv', index_col=False)"
   ]
  },
  {
   "cell_type": "markdown",
   "metadata": {},
   "source": [
    "# get insight"
   ]
  },
  {
   "cell_type": "code",
   "execution_count": 354,
   "metadata": {},
   "outputs": [
    {
     "data": {
      "text/html": [
       "<div>\n",
       "<style scoped>\n",
       "    .dataframe tbody tr th:only-of-type {\n",
       "        vertical-align: middle;\n",
       "    }\n",
       "\n",
       "    .dataframe tbody tr th {\n",
       "        vertical-align: top;\n",
       "    }\n",
       "\n",
       "    .dataframe thead th {\n",
       "        text-align: right;\n",
       "    }\n",
       "</style>\n",
       "<table border=\"1\" class=\"dataframe\">\n",
       "  <thead>\n",
       "    <tr style=\"text-align: right;\">\n",
       "      <th></th>\n",
       "      <th>Unnamed: 0</th>\n",
       "      <th>id</th>\n",
       "      <th>area</th>\n",
       "      <th>space</th>\n",
       "      <th>equipment</th>\n",
       "      <th>type</th>\n",
       "      <th>room</th>\n",
       "      <th>city</th>\n",
       "      <th>state</th>\n",
       "      <th>price</th>\n",
       "      <th>capacity</th>\n",
       "      <th>extra</th>\n",
       "    </tr>\n",
       "  </thead>\n",
       "  <tbody>\n",
       "    <tr>\n",
       "      <th>0</th>\n",
       "      <td>0</td>\n",
       "      <td>39</td>\n",
       "      <td>600</td>\n",
       "      <td>300</td>\n",
       "      <td>12</td>\n",
       "      <td>ویلایی</td>\n",
       "      <td>3</td>\n",
       "      <td>نمک آبرود</td>\n",
       "      <td>مازندران</td>\n",
       "      <td>500000</td>\n",
       "      <td>8</td>\n",
       "      <td>7</td>\n",
       "    </tr>\n",
       "    <tr>\n",
       "      <th>1</th>\n",
       "      <td>1</td>\n",
       "      <td>52</td>\n",
       "      <td>312</td>\n",
       "      <td>75</td>\n",
       "      <td>9</td>\n",
       "      <td>ویلایی</td>\n",
       "      <td>1</td>\n",
       "      <td>طالقان</td>\n",
       "      <td>البرز</td>\n",
       "      <td>250000</td>\n",
       "      <td>4</td>\n",
       "      <td>2</td>\n",
       "    </tr>\n",
       "    <tr>\n",
       "      <th>2</th>\n",
       "      <td>2</td>\n",
       "      <td>79</td>\n",
       "      <td>114</td>\n",
       "      <td>85</td>\n",
       "      <td>10</td>\n",
       "      <td>آپارتمان</td>\n",
       "      <td>1</td>\n",
       "      <td>کاشان</td>\n",
       "      <td>اصفهان</td>\n",
       "      <td>100000</td>\n",
       "      <td>4</td>\n",
       "      <td>6</td>\n",
       "    </tr>\n",
       "    <tr>\n",
       "      <th>3</th>\n",
       "      <td>3</td>\n",
       "      <td>87</td>\n",
       "      <td>400</td>\n",
       "      <td>200</td>\n",
       "      <td>12</td>\n",
       "      <td>ویلایی</td>\n",
       "      <td>3</td>\n",
       "      <td>نمک آبرود</td>\n",
       "      <td>مازندران</td>\n",
       "      <td>1000000</td>\n",
       "      <td>6</td>\n",
       "      <td>6</td>\n",
       "    </tr>\n",
       "    <tr>\n",
       "      <th>4</th>\n",
       "      <td>4</td>\n",
       "      <td>101</td>\n",
       "      <td>500</td>\n",
       "      <td>120</td>\n",
       "      <td>8</td>\n",
       "      <td>آپارتمان</td>\n",
       "      <td>2</td>\n",
       "      <td>نمک آبرود</td>\n",
       "      <td>مازندران</td>\n",
       "      <td>250000</td>\n",
       "      <td>5</td>\n",
       "      <td>0</td>\n",
       "    </tr>\n",
       "  </tbody>\n",
       "</table>\n",
       "</div>"
      ],
      "text/plain": [
       "   Unnamed: 0   id  area  space  equipment      type  room       city  \\\n",
       "0           0   39   600    300         12    ویلایی     3  نمک آبرود   \n",
       "1           1   52   312     75          9    ویلایی     1     طالقان   \n",
       "2           2   79   114     85         10  آپارتمان     1      کاشان   \n",
       "3           3   87   400    200         12    ویلایی     3  نمک آبرود   \n",
       "4           4  101   500    120          8  آپارتمان     2  نمک آبرود   \n",
       "\n",
       "      state    price  capacity  extra  \n",
       "0  مازندران   500000         8      7  \n",
       "1     البرز   250000         4      2  \n",
       "2    اصفهان   100000         4      6  \n",
       "3  مازندران  1000000         6      6  \n",
       "4  مازندران   250000         5      0  "
      ]
     },
     "execution_count": 354,
     "metadata": {},
     "output_type": "execute_result"
    }
   ],
   "source": [
    "houses.head()"
   ]
  },
  {
   "cell_type": "code",
   "execution_count": 355,
   "metadata": {},
   "outputs": [],
   "source": [
    "houses.drop(['Unnamed: 0'], axis=1, inplace=True)"
   ]
  },
  {
   "cell_type": "code",
   "execution_count": 356,
   "metadata": {},
   "outputs": [
    {
     "name": "stdout",
     "output_type": "stream",
     "text": [
      "<class 'pandas.core.frame.DataFrame'>\n",
      "RangeIndex: 4785 entries, 0 to 4784\n",
      "Data columns (total 11 columns):\n",
      " #   Column     Non-Null Count  Dtype \n",
      "---  ------     --------------  ----- \n",
      " 0   id         4785 non-null   int64 \n",
      " 1   area       4785 non-null   int64 \n",
      " 2   space      4785 non-null   int64 \n",
      " 3   equipment  4785 non-null   int64 \n",
      " 4   type       4785 non-null   object\n",
      " 5   room       4785 non-null   int64 \n",
      " 6   city       4785 non-null   object\n",
      " 7   state      4785 non-null   object\n",
      " 8   price      4785 non-null   int64 \n",
      " 9   capacity   4785 non-null   int64 \n",
      " 10  extra      4785 non-null   int64 \n",
      "dtypes: int64(8), object(3)\n",
      "memory usage: 411.3+ KB\n"
     ]
    }
   ],
   "source": [
    "houses.info()"
   ]
  },
  {
   "cell_type": "code",
   "execution_count": 357,
   "metadata": {},
   "outputs": [
    {
     "data": {
      "text/html": [
       "<div>\n",
       "<style scoped>\n",
       "    .dataframe tbody tr th:only-of-type {\n",
       "        vertical-align: middle;\n",
       "    }\n",
       "\n",
       "    .dataframe tbody tr th {\n",
       "        vertical-align: top;\n",
       "    }\n",
       "\n",
       "    .dataframe thead th {\n",
       "        text-align: right;\n",
       "    }\n",
       "</style>\n",
       "<table border=\"1\" class=\"dataframe\">\n",
       "  <thead>\n",
       "    <tr style=\"text-align: right;\">\n",
       "      <th></th>\n",
       "      <th>id</th>\n",
       "      <th>area</th>\n",
       "      <th>space</th>\n",
       "      <th>equipment</th>\n",
       "      <th>room</th>\n",
       "      <th>price</th>\n",
       "      <th>capacity</th>\n",
       "      <th>extra</th>\n",
       "    </tr>\n",
       "  </thead>\n",
       "  <tbody>\n",
       "    <tr>\n",
       "      <th>count</th>\n",
       "      <td>4785.000000</td>\n",
       "      <td>4785.000000</td>\n",
       "      <td>4785.000000</td>\n",
       "      <td>4785.000000</td>\n",
       "      <td>4785.000000</td>\n",
       "      <td>4.785000e+03</td>\n",
       "      <td>4785.000000</td>\n",
       "      <td>4785.000000</td>\n",
       "    </tr>\n",
       "    <tr>\n",
       "      <th>mean</th>\n",
       "      <td>28950.464159</td>\n",
       "      <td>2094.212539</td>\n",
       "      <td>117.513480</td>\n",
       "      <td>8.256635</td>\n",
       "      <td>1.123302</td>\n",
       "      <td>3.457045e+05</td>\n",
       "      <td>3.523093</td>\n",
       "      <td>3.588715</td>\n",
       "    </tr>\n",
       "    <tr>\n",
       "      <th>std</th>\n",
       "      <td>12101.208762</td>\n",
       "      <td>18788.321700</td>\n",
       "      <td>220.447082</td>\n",
       "      <td>2.169878</td>\n",
       "      <td>1.115531</td>\n",
       "      <td>4.469819e+05</td>\n",
       "      <td>2.288170</td>\n",
       "      <td>4.298892</td>\n",
       "    </tr>\n",
       "    <tr>\n",
       "      <th>min</th>\n",
       "      <td>39.000000</td>\n",
       "      <td>1.000000</td>\n",
       "      <td>4.000000</td>\n",
       "      <td>0.000000</td>\n",
       "      <td>0.000000</td>\n",
       "      <td>2.500000e+04</td>\n",
       "      <td>1.000000</td>\n",
       "      <td>0.000000</td>\n",
       "    </tr>\n",
       "    <tr>\n",
       "      <th>25%</th>\n",
       "      <td>20846.000000</td>\n",
       "      <td>220.000000</td>\n",
       "      <td>24.000000</td>\n",
       "      <td>7.000000</td>\n",
       "      <td>0.000000</td>\n",
       "      <td>1.000000e+05</td>\n",
       "      <td>2.000000</td>\n",
       "      <td>1.000000</td>\n",
       "    </tr>\n",
       "    <tr>\n",
       "      <th>50%</th>\n",
       "      <td>32008.000000</td>\n",
       "      <td>500.000000</td>\n",
       "      <td>75.000000</td>\n",
       "      <td>8.000000</td>\n",
       "      <td>1.000000</td>\n",
       "      <td>2.200000e+05</td>\n",
       "      <td>4.000000</td>\n",
       "      <td>3.000000</td>\n",
       "    </tr>\n",
       "    <tr>\n",
       "      <th>75%</th>\n",
       "      <td>37832.000000</td>\n",
       "      <td>1000.000000</td>\n",
       "      <td>120.000000</td>\n",
       "      <td>10.000000</td>\n",
       "      <td>2.000000</td>\n",
       "      <td>4.000000e+05</td>\n",
       "      <td>5.000000</td>\n",
       "      <td>4.000000</td>\n",
       "    </tr>\n",
       "    <tr>\n",
       "      <th>max</th>\n",
       "      <td>48034.000000</td>\n",
       "      <td>570000.000000</td>\n",
       "      <td>4000.000000</td>\n",
       "      <td>14.000000</td>\n",
       "      <td>11.000000</td>\n",
       "      <td>7.500000e+06</td>\n",
       "      <td>45.000000</td>\n",
       "      <td>84.000000</td>\n",
       "    </tr>\n",
       "  </tbody>\n",
       "</table>\n",
       "</div>"
      ],
      "text/plain": [
       "                 id           area        space    equipment         room  \\\n",
       "count   4785.000000    4785.000000  4785.000000  4785.000000  4785.000000   \n",
       "mean   28950.464159    2094.212539   117.513480     8.256635     1.123302   \n",
       "std    12101.208762   18788.321700   220.447082     2.169878     1.115531   \n",
       "min       39.000000       1.000000     4.000000     0.000000     0.000000   \n",
       "25%    20846.000000     220.000000    24.000000     7.000000     0.000000   \n",
       "50%    32008.000000     500.000000    75.000000     8.000000     1.000000   \n",
       "75%    37832.000000    1000.000000   120.000000    10.000000     2.000000   \n",
       "max    48034.000000  570000.000000  4000.000000    14.000000    11.000000   \n",
       "\n",
       "              price     capacity        extra  \n",
       "count  4.785000e+03  4785.000000  4785.000000  \n",
       "mean   3.457045e+05     3.523093     3.588715  \n",
       "std    4.469819e+05     2.288170     4.298892  \n",
       "min    2.500000e+04     1.000000     0.000000  \n",
       "25%    1.000000e+05     2.000000     1.000000  \n",
       "50%    2.200000e+05     4.000000     3.000000  \n",
       "75%    4.000000e+05     5.000000     4.000000  \n",
       "max    7.500000e+06    45.000000    84.000000  "
      ]
     },
     "execution_count": 357,
     "metadata": {},
     "output_type": "execute_result"
    }
   ],
   "source": [
    "houses.describe()"
   ]
  },
  {
   "cell_type": "code",
   "execution_count": 358,
   "metadata": {},
   "outputs": [
    {
     "data": {
      "image/png": "[encoded data removed]",
      "text/plain": [
       "<Figure size 1440x1080 with 9 Axes>"
      ]
     },
     "metadata": {
      "needs_background": "light"
     },
     "output_type": "display_data"
    }
   ],
   "source": [
    "%matplotlib inline\n",
    "houses.hist(bins=50, figsize=(20,15))\n",
    "plt.show()"
   ]
  },
  {
   "cell_type": "markdown",
   "metadata": {},
   "source": [
    "# Split train and test"
   ]
  },
  {
   "cell_type": "code",
   "execution_count": 359,
   "metadata": {},
   "outputs": [],
   "source": [
    "from sklearn.model_selection import train_test_split\n",
    "\n",
    "train_set, test_set = train_test_split(houses, test_size=0.2, random_state=42)"
   ]
  },
  {
   "cell_type": "code",
   "execution_count": 360,
   "metadata": {},
   "outputs": [],
   "source": [
    "houses = train_set.copy()"
   ]
  },
  {
   "cell_type": "code",
   "execution_count": 361,
   "metadata": {},
   "outputs": [
    {
     "data": {
      "text/plain": [
       "id          -0.057865\n",
       "extra       -0.049933\n",
       "area        -0.011502\n",
       "space        0.187854\n",
       "capacity     0.416145\n",
       "equipment    0.486323\n",
       "room         0.525764\n",
       "price        1.000000\n",
       "Name: price, dtype: float64"
      ]
     },
     "execution_count": 361,
     "metadata": {},
     "output_type": "execute_result"
    }
   ],
   "source": [
    "houses.corr()['price'].sort_values()"
   ]
  },
  {
   "cell_type": "markdown",
   "metadata": {},
   "source": [
    "# Embed Feature"
   ]
  },
  {
   "cell_type": "markdown",
   "metadata": {},
   "source": [
    "make new featur that is sum of main capacity and extra capacity of each houses.👇"
   ]
  },
  {
   "cell_type": "code",
   "execution_count": 362,
   "metadata": {},
   "outputs": [],
   "source": [
    "houses['full_capacity'] = houses['capacity']+houses['extra']"
   ]
  },
  {
   "cell_type": "code",
   "execution_count": 363,
   "metadata": {},
   "outputs": [
    {
     "data": {
      "text/plain": [
       "id              -0.057865\n",
       "extra           -0.049933\n",
       "area            -0.011502\n",
       "full_capacity    0.157391\n",
       "space            0.187854\n",
       "capacity         0.416145\n",
       "equipment        0.486323\n",
       "room             0.525764\n",
       "price            1.000000\n",
       "Name: price, dtype: float64"
      ]
     },
     "execution_count": 363,
     "metadata": {},
     "output_type": "execute_result"
    }
   ],
   "source": [
    "houses.corr()['price'].sort_values()"
   ]
  },
  {
   "cell_type": "markdown",
   "metadata": {},
   "source": [
    "  "
   ]
  },
  {
   "cell_type": "markdown",
   "metadata": {},
   "source": [
    "capacity per room👇"
   ]
  },
  {
   "cell_type": "code",
   "execution_count": 364,
   "metadata": {},
   "outputs": [],
   "source": [
    "houses['capacityPerRoom'] = houses['capacity']/houses['room']"
   ]
  },
  {
   "cell_type": "code",
   "execution_count": 365,
   "metadata": {},
   "outputs": [
    {
     "data": {
      "text/plain": [
       "capacityPerRoom   -0.091760\n",
       "id                -0.057865\n",
       "extra             -0.049933\n",
       "area              -0.011502\n",
       "full_capacity      0.157391\n",
       "space              0.187854\n",
       "capacity           0.416145\n",
       "equipment          0.486323\n",
       "room               0.525764\n",
       "price              1.000000\n",
       "Name: price, dtype: float64"
      ]
     },
     "execution_count": 365,
     "metadata": {},
     "output_type": "execute_result"
    }
   ],
   "source": [
    "houses.corr()['price'].sort_values()"
   ]
  },
  {
   "cell_type": "markdown",
   "metadata": {},
   "source": [
    "# Preproccessing"
   ]
  },
  {
   "cell_type": "code",
   "execution_count": 366,
   "metadata": {},
   "outputs": [],
   "source": [
    "x = houses.drop(['id', 'extra', 'area', 'capacityPerRoom', 'full_capacity', 'price', 'space'], axis=1)\n",
    "y = houses['price']"
   ]
  },
  {
   "cell_type": "code",
   "execution_count": 367,
   "metadata": {},
   "outputs": [
    {
     "data": {
      "text/html": [
       "<div>\n",
       "<style scoped>\n",
       "    .dataframe tbody tr th:only-of-type {\n",
       "        vertical-align: middle;\n",
       "    }\n",
       "\n",
       "    .dataframe tbody tr th {\n",
       "        vertical-align: top;\n",
       "    }\n",
       "\n",
       "    .dataframe thead th {\n",
       "        text-align: right;\n",
       "    }\n",
       "</style>\n",
       "<table border=\"1\" class=\"dataframe\">\n",
       "  <thead>\n",
       "    <tr style=\"text-align: right;\">\n",
       "      <th></th>\n",
       "      <th>equipment</th>\n",
       "      <th>type</th>\n",
       "      <th>room</th>\n",
       "      <th>city</th>\n",
       "      <th>state</th>\n",
       "      <th>capacity</th>\n",
       "    </tr>\n",
       "  </thead>\n",
       "  <tbody>\n",
       "    <tr>\n",
       "      <th>2449</th>\n",
       "      <td>11</td>\n",
       "      <td>بوم‌گردی</td>\n",
       "      <td>0</td>\n",
       "      <td>فردوس</td>\n",
       "      <td>خراسان جنوبی</td>\n",
       "      <td>1</td>\n",
       "    </tr>\n",
       "    <tr>\n",
       "      <th>3223</th>\n",
       "      <td>7</td>\n",
       "      <td>بوم‌گردی</td>\n",
       "      <td>0</td>\n",
       "      <td>نطنز</td>\n",
       "      <td>اصفهان</td>\n",
       "      <td>5</td>\n",
       "    </tr>\n",
       "    <tr>\n",
       "      <th>2055</th>\n",
       "      <td>5</td>\n",
       "      <td>بوم‌گردی</td>\n",
       "      <td>0</td>\n",
       "      <td>جیرفت</td>\n",
       "      <td>کرمان</td>\n",
       "      <td>1</td>\n",
       "    </tr>\n",
       "    <tr>\n",
       "      <th>2435</th>\n",
       "      <td>10</td>\n",
       "      <td>ویلایی</td>\n",
       "      <td>2</td>\n",
       "      <td>سامان</td>\n",
       "      <td>چهارمحال و بختیاری</td>\n",
       "      <td>15</td>\n",
       "    </tr>\n",
       "    <tr>\n",
       "      <th>4592</th>\n",
       "      <td>7</td>\n",
       "      <td>بوم‌گردی</td>\n",
       "      <td>0</td>\n",
       "      <td>نطنز</td>\n",
       "      <td>اصفهان</td>\n",
       "      <td>2</td>\n",
       "    </tr>\n",
       "    <tr>\n",
       "      <th>4123</th>\n",
       "      <td>9</td>\n",
       "      <td>بوم‌گردی</td>\n",
       "      <td>0</td>\n",
       "      <td>رضوان شهر</td>\n",
       "      <td>گیلان</td>\n",
       "      <td>5</td>\n",
       "    </tr>\n",
       "    <tr>\n",
       "      <th>4732</th>\n",
       "      <td>8</td>\n",
       "      <td>ویلایی</td>\n",
       "      <td>1</td>\n",
       "      <td>اصفهان</td>\n",
       "      <td>اصفهان</td>\n",
       "      <td>3</td>\n",
       "    </tr>\n",
       "    <tr>\n",
       "      <th>2613</th>\n",
       "      <td>4</td>\n",
       "      <td>سوئیت</td>\n",
       "      <td>0</td>\n",
       "      <td>بندرعباس</td>\n",
       "      <td>هرمزگان</td>\n",
       "      <td>3</td>\n",
       "    </tr>\n",
       "    <tr>\n",
       "      <th>4524</th>\n",
       "      <td>10</td>\n",
       "      <td>ویلایی</td>\n",
       "      <td>2</td>\n",
       "      <td>رامسر</td>\n",
       "      <td>مازندران</td>\n",
       "      <td>4</td>\n",
       "    </tr>\n",
       "    <tr>\n",
       "      <th>363</th>\n",
       "      <td>13</td>\n",
       "      <td>ویلایی</td>\n",
       "      <td>2</td>\n",
       "      <td>مشهد</td>\n",
       "      <td>خراسان رضوی</td>\n",
       "      <td>6</td>\n",
       "    </tr>\n",
       "  </tbody>\n",
       "</table>\n",
       "</div>"
      ],
      "text/plain": [
       "      equipment      type  room       city               state  capacity\n",
       "2449         11  بوم‌گردی     0      فردوس        خراسان جنوبی         1\n",
       "3223          7  بوم‌گردی     0       نطنز              اصفهان         5\n",
       "2055          5  بوم‌گردی     0      جیرفت               کرمان         1\n",
       "2435         10    ویلایی     2      سامان  چهارمحال و بختیاری        15\n",
       "4592          7  بوم‌گردی     0       نطنز              اصفهان         2\n",
       "4123          9  بوم‌گردی     0  رضوان شهر               گیلان         5\n",
       "4732          8    ویلایی     1     اصفهان              اصفهان         3\n",
       "2613          4     سوئیت     0   بندرعباس             هرمزگان         3\n",
       "4524         10    ویلایی     2      رامسر            مازندران         4\n",
       "363          13    ویلایی     2       مشهد         خراسان رضوی         6"
      ]
     },
     "execution_count": 367,
     "metadata": {},
     "output_type": "execute_result"
    }
   ],
   "source": [
    "x.sample(10)"
   ]
  },
  {
   "cell_type": "code",
   "execution_count": 368,
   "metadata": {},
   "outputs": [
    {
     "name": "stdout",
     "output_type": "stream",
     "text": [
      "31\n",
      "255\n"
     ]
    }
   ],
   "source": [
    "print(len(x['state'].value_counts()))\n",
    "print(len(x['city'].value_counts()))"
   ]
  },
  {
   "cell_type": "code",
   "execution_count": 369,
   "metadata": {},
   "outputs": [],
   "source": [
    "x.drop(['city'], axis=1, inplace=True)"
   ]
  },
  {
   "cell_type": "code",
   "execution_count": 371,
   "metadata": {},
   "outputs": [],
   "source": [
    "enc = OneHotEncoder()\n",
    "houses_prepared = enc.fit_transform(x[['type', 'state']]).toarray()\n",
    "c = enc.get_feature_names(['type', 'state'])\n",
    "\n",
    "houses_prepared = preprocessor.fit_transform(x)\n",
    "houses_prepared = pd.DataFrame(houses_prepared.toarray(), index=x.index, columns=c)"
   ]
  },
  {
   "cell_type": "code",
   "execution_count": 372,
   "metadata": {},
   "outputs": [],
   "source": [
    "draft = houses_prepared.copy()\n",
    "draft['price'] = y\n",
    "draft['equipment'] = x['equipment']\n",
    "draft['room'] = x['room']\n",
    "draft['capacity'] = x['capacity']"
   ]
  },
  {
   "cell_type": "code",
   "execution_count": 373,
   "metadata": {},
   "outputs": [
    {
     "data": {
      "text/plain": [
       "type_بوم‌گردی               -0.345005\n",
       "state_خراسان رضوی           -0.109303\n",
       "state_سمنان                 -0.091780\n",
       "type_سوئیت                  -0.091451\n",
       "state_خراسان جنوبی          -0.088857\n",
       "state_اصفهان                -0.088093\n",
       "state_یزد                   -0.083498\n",
       "state_کرمان                 -0.082347\n",
       "state_گلستان                -0.056883\n",
       "state_فارس                  -0.055467\n",
       "state_خراسان شمالی          -0.055297\n",
       "state_همدان                 -0.052407\n",
       "state_کردستان               -0.048927\n",
       "state_سیستان و بلوچستان     -0.045071\n",
       "state_قم                    -0.039545\n",
       "state_بوشهر                 -0.035655\n",
       "state_چهارمحال و بختیاری    -0.034716\n",
       "state_لرستان                -0.032505\n",
       "state_آذربایجان غربی        -0.031620\n",
       "state_مرکزی                 -0.030506\n",
       "state_زنجان                 -0.030349\n",
       "state_خوزستان               -0.029952\n",
       "state_کرمانشاه              -0.025306\n",
       "state_قزوین                 -0.024575\n",
       "state_کهکیلویه و بویراحمد   -0.023579\n",
       "state_آذربایجان شرقی        -0.021290\n",
       "state_اردبیل                -0.018668\n",
       "state_هرمزگان               -0.007749\n",
       "state_ایلام                 -0.006719\n",
       "state_گیلان                  0.017760\n",
       "type_آپارتمان                0.032293\n",
       "state_البرز                  0.190465\n",
       "state_تهران                  0.201146\n",
       "state_مازندران               0.272067\n",
       "type_ویلایی                  0.384788\n",
       "capacity                     0.416145\n",
       "equipment                    0.486323\n",
       "room                         0.525764\n",
       "price                        1.000000\n",
       "Name: price, dtype: float64"
      ]
     },
     "execution_count": 373,
     "metadata": {},
     "output_type": "execute_result"
    }
   ],
   "source": [
    "draft.corr()['price'].sort_values()"
   ]
  },
  {
   "cell_type": "code",
   "execution_count": 376,
   "metadata": {},
   "outputs": [],
   "source": [
    "x = draft[['capacity', 'equipment', 'room', 'type_ویلایی', 'type_بوم\\u200cگردی', 'state_تهران', 'state_مازندران']]"
   ]
  },
  {
   "cell_type": "markdown",
   "metadata": {},
   "source": [
    "# Select Model"
   ]
  },
  {
   "cell_type": "markdown",
   "metadata": {},
   "source": [
    "## RandomForest"
   ]
  },
  {
   "cell_type": "code",
   "execution_count": 377,
   "metadata": {},
   "outputs": [
    {
     "name": "stdout",
     "output_type": "stream",
     "text": [
      "113004.40976257615\n",
      "\n",
      "147647.36623372257\n",
      "12170.664460863592\n"
     ]
    }
   ],
   "source": [
    "from sklearn.ensemble import RandomForestRegressor\n",
    "from sklearn.model_selection import cross_val_score\n",
    "from sklearn.metrics import mean_absolute_error as MAE\n",
    "\n",
    "rnd_forest = RandomForestRegressor(random_state=42)\n",
    "rnd_forest.fit(x, y)\n",
    "print(MAE(y, rnd_forest.predict(x)))\n",
    "print()\n",
    "\n",
    "first_cv_scores = cross_val_score(rnd_forest, x, y, cv=10, scoring='neg_mean_absolute_error')\n",
    "print(-first_cv_scores.mean())\n",
    "print(first_cv_scores.std())"
   ]
  },
  {
   "cell_type": "markdown",
   "metadata": {},
   "source": [
    "## LinearRegression"
   ]
  },
  {
   "cell_type": "code",
   "execution_count": 378,
   "metadata": {},
   "outputs": [
    {
     "name": "stdout",
     "output_type": "stream",
     "text": [
      "195946.12733726678\n",
      "\n",
      "196634.2281341948\n",
      "9664.930635538536\n"
     ]
    }
   ],
   "source": [
    "from sklearn.linear_model import LinearRegression\n",
    "\n",
    "linear = LinearRegression()\n",
    "linear.fit(x, y)\n",
    "print(MAE(y, linear.predict(x)))\n",
    "print()\n",
    "\n",
    "first_cv_scores = cross_val_score(linear, x, y, cv=10, scoring='neg_mean_absolute_error')\n",
    "print(-first_cv_scores.mean())\n",
    "print(first_cv_scores.std())"
   ]
  },
  {
   "cell_type": "markdown",
   "metadata": {},
   "source": [
    "# Fine-tune"
   ]
  },
  {
   "cell_type": "markdown",
   "metadata": {},
   "source": [
    "## RandomizedSearchCV"
   ]
  },
  {
   "cell_type": "code",
   "execution_count": 379,
   "metadata": {},
   "outputs": [],
   "source": [
    "from sklearn.model_selection import RandomizedSearchCV\n",
    "from scipy.stats import randint\n",
    "\n",
    "param_distribs = {\n",
    "        'n_estimators': randint(low=1, high=200),\n",
    "        'max_features': randint(low=1, high=8),\n",
    "    }\n",
    "\n",
    "rnd_search = RandomizedSearchCV(rnd_forest, param_distributions=param_distribs,\n",
    "                                n_iter=10, cv=5, scoring='neg_mean_absolute_error', random_state=42);\n",
    "rnd_search.fit(x, y);"
   ]
  },
  {
   "cell_type": "markdown",
   "metadata": {},
   "source": [
    "### Results"
   ]
  },
  {
   "cell_type": "code",
   "execution_count": 384,
   "metadata": {},
   "outputs": [
    {
     "name": "stdout",
     "output_type": "stream",
     "text": [
      "-147566.75104585398 {'max_features': 7, 'n_estimators': 180}\n",
      "-147802.64176775265 {'max_features': 5, 'n_estimators': 15}\n",
      "-146031.44607023807 {'max_features': 3, 'n_estimators': 72}\n",
      "-147410.16964049713 {'max_features': 5, 'n_estimators': 21}\n",
      "-147467.39865307458 {'max_features': 7, 'n_estimators': 122}\n",
      "-146135.38016167493 {'max_features': 3, 'n_estimators': 75}\n",
      "-145826.16436790166 {'max_features': 3, 'n_estimators': 88}\n",
      "-146543.88376535175 {'max_features': 5, 'n_estimators': 100}\n",
      "-145565.6238882294 {'max_features': 3, 'n_estimators': 150}\n",
      "-156920.54656540713 {'max_features': 5, 'n_estimators': 2}\n",
      "\n"
     ]
    },
    {
     "data": {
      "text/plain": [
       "-145565.6238882294"
      ]
     },
     "execution_count": 384,
     "metadata": {},
     "output_type": "execute_result"
    }
   ],
   "source": [
    "cvres = rnd_search.cv_results_\n",
    "cvres = rnd_search.cv_results_\n",
    "for mean_score, params in zip(cvres[\"mean_test_score\"], cvres[\"params\"]):\n",
    "    print(mean_score, params)\n",
    "    \n",
    "print()\n",
    "max(cvres[\"mean_test_score\"])"
   ]
  },
  {
   "cell_type": "markdown",
   "metadata": {},
   "source": [
    "### feature importances"
   ]
  },
  {
   "cell_type": "code",
   "execution_count": 385,
   "metadata": {},
   "outputs": [
    {
     "data": {
      "text/plain": [
       "array([0.21177748, 0.33754381, 0.29979324, 0.04996824, 0.01816975,\n",
       "       0.05211377, 0.03063372])"
      ]
     },
     "execution_count": 385,
     "metadata": {},
     "output_type": "execute_result"
    }
   ],
   "source": [
    "feature_importances = rnd_search.best_estimator_.feature_importances_\n",
    "feature_importances"
   ]
  },
  {
   "cell_type": "code",
   "execution_count": 386,
   "metadata": {},
   "outputs": [
    {
     "data": {
      "text/plain": [
       "[(0.018169747051694662, 'type_بوم\\u200cگردی'),\n",
       " (0.030633716769660025, 'state_مازندران'),\n",
       " (0.04996823779179056, 'type_ویلایی'),\n",
       " (0.0521137681203127, 'state_تهران'),\n",
       " (0.21177747844780237, 'capacity'),\n",
       " (0.2997932432692985, 'room'),\n",
       " (0.33754380854944127, 'equipment')]"
      ]
     },
     "execution_count": 386,
     "metadata": {},
     "output_type": "execute_result"
    }
   ],
   "source": [
    "sorted(zip(feature_importances, ['capacity', 'equipment', 'room', 'type_ویلایی', 'type_بوم\\u200cگردی', 'state_تهران', 'state_مازندران']))"
   ]
  },
  {
   "cell_type": "markdown",
   "metadata": {},
   "source": [
    "# Predict Test"
   ]
  },
  {
   "cell_type": "code",
   "execution_count": 387,
   "metadata": {},
   "outputs": [],
   "source": [
    "test = test_set.copy()"
   ]
  },
  {
   "cell_type": "code",
   "execution_count": 388,
   "metadata": {},
   "outputs": [],
   "source": [
    "test.drop(['id', 'extra', 'area', 'price', 'space', 'city'], axis=1, inplace=True)"
   ]
  },
  {
   "cell_type": "code",
   "execution_count": 389,
   "metadata": {},
   "outputs": [],
   "source": [
    "enc = OneHotEncoder()\n",
    "d = enc.fit_transform(test[['type','state']]).toarray()\n",
    "c = enc.get_feature_names(['type', 'state'])\n",
    "draft = pd.DataFrame(d, index=test.index, columns=c)"
   ]
  },
  {
   "cell_type": "code",
   "execution_count": 391,
   "metadata": {},
   "outputs": [
    {
     "data": {
      "text/html": [
       "<div>\n",
       "<style scoped>\n",
       "    .dataframe tbody tr th:only-of-type {\n",
       "        vertical-align: middle;\n",
       "    }\n",
       "\n",
       "    .dataframe tbody tr th {\n",
       "        vertical-align: top;\n",
       "    }\n",
       "\n",
       "    .dataframe thead th {\n",
       "        text-align: right;\n",
       "    }\n",
       "</style>\n",
       "<table border=\"1\" class=\"dataframe\">\n",
       "  <thead>\n",
       "    <tr style=\"text-align: right;\">\n",
       "      <th></th>\n",
       "      <th>equipment</th>\n",
       "      <th>room</th>\n",
       "      <th>capacity</th>\n",
       "      <th>type_بوم‌گردی</th>\n",
       "      <th>type_ویلایی</th>\n",
       "      <th>state_تهران</th>\n",
       "      <th>state_مازندران</th>\n",
       "    </tr>\n",
       "  </thead>\n",
       "  <tbody>\n",
       "    <tr>\n",
       "      <th>376</th>\n",
       "      <td>13</td>\n",
       "      <td>2</td>\n",
       "      <td>4</td>\n",
       "      <td>0.0</td>\n",
       "      <td>1.0</td>\n",
       "      <td>0.0</td>\n",
       "      <td>1.0</td>\n",
       "    </tr>\n",
       "    <tr>\n",
       "      <th>17</th>\n",
       "      <td>11</td>\n",
       "      <td>2</td>\n",
       "      <td>3</td>\n",
       "      <td>0.0</td>\n",
       "      <td>0.0</td>\n",
       "      <td>0.0</td>\n",
       "      <td>0.0</td>\n",
       "    </tr>\n",
       "    <tr>\n",
       "      <th>29</th>\n",
       "      <td>11</td>\n",
       "      <td>4</td>\n",
       "      <td>8</td>\n",
       "      <td>0.0</td>\n",
       "      <td>1.0</td>\n",
       "      <td>0.0</td>\n",
       "      <td>0.0</td>\n",
       "    </tr>\n",
       "    <tr>\n",
       "      <th>807</th>\n",
       "      <td>6</td>\n",
       "      <td>1</td>\n",
       "      <td>1</td>\n",
       "      <td>1.0</td>\n",
       "      <td>0.0</td>\n",
       "      <td>0.0</td>\n",
       "      <td>0.0</td>\n",
       "    </tr>\n",
       "    <tr>\n",
       "      <th>3751</th>\n",
       "      <td>10</td>\n",
       "      <td>1</td>\n",
       "      <td>2</td>\n",
       "      <td>0.0</td>\n",
       "      <td>0.0</td>\n",
       "      <td>0.0</td>\n",
       "      <td>0.0</td>\n",
       "    </tr>\n",
       "  </tbody>\n",
       "</table>\n",
       "</div>"
      ],
      "text/plain": [
       "      equipment  room  capacity  type_بوم‌گردی  type_ویلایی  state_تهران  \\\n",
       "376          13     2         4            0.0          1.0          0.0   \n",
       "17           11     2         3            0.0          0.0          0.0   \n",
       "29           11     4         8            0.0          1.0          0.0   \n",
       "807           6     1         1            1.0          0.0          0.0   \n",
       "3751         10     1         2            0.0          0.0          0.0   \n",
       "\n",
       "      state_مازندران  \n",
       "376              1.0  \n",
       "17               0.0  \n",
       "29               0.0  \n",
       "807              0.0  \n",
       "3751             0.0  "
      ]
     },
     "execution_count": 391,
     "metadata": {},
     "output_type": "execute_result"
    }
   ],
   "source": [
    "test.drop(['type', 'state'], axis=1, inplace=True)\n",
    "test['type_بوم\\u200cگردی'] = draft['type_بوم\\u200cگردی']\n",
    "test['type_ویلایی'] = draft['type_ویلایی']\n",
    "test['state_تهران'] = draft['state_تهران']\n",
    "test['state_مازندران'] = draft['state_مازندران']\n",
    "test.sample(5)"
   ]
  },
  {
   "cell_type": "markdown",
   "metadata": {},
   "source": [
    "### Final Score"
   ]
  },
  {
   "cell_type": "code",
   "execution_count": 396,
   "metadata": {},
   "outputs": [
    {
     "name": "stdout",
     "output_type": "stream",
     "text": [
      "289049.15649516514\n"
     ]
    }
   ],
   "source": [
    "print(MAE(test_set['price'], rnd_forest.predict(test)))"
   ]
  },
  {
   "cell_type": "code",
   "execution_count": null,
   "metadata": {},
   "outputs": [],
   "source": []
  }
 ],
 "metadata": {
  "kernelspec": {
   "display_name": "Python 3",
   "language": "python",
   "name": "python3"
  },
  "language_info": {
   "codemirror_mode": {
    "name": "ipython",
    "version": 3
   },
   "file_extension": ".py",
   "mimetype": "text/x-python",
   "name": "python",
   "nbconvert_exporter": "python",
   "pygments_lexer": "ipython3",
   "version": "3.8.5"
  }
 },
 "nbformat": 4,
 "nbformat_minor": 4
}
